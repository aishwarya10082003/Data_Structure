{
 "cells": [
  {
   "cell_type": "code",
   "execution_count": 2,
   "id": "ea0ffee8-68e1-4253-a07e-8aac4bd6fe2c",
   "metadata": {},
   "outputs": [],
   "source": [
    "# Discuss string slicing and provide examples?\n",
    "# Ans:- For understanding slicing we will use different methods of string slicing, one which the in-build slice() method and another using the[:] array slice.\n",
    "#       String slicing in python is about obtaining a sub-string from the given string by slicing it respectively from start to end.\n",
    "#       Example:  with the string my_string = \"Hello, World!\", \n",
    "#                 if you use my_string[7:12], it will return \"World\"."
   ]
  },
  {
   "cell_type": "code",
   "execution_count": 3,
   "id": "f6d47b3f-1a0f-4510-8042-d0bd34c49bf9",
   "metadata": {},
   "outputs": [],
   "source": [
    "# Explain the key features of lists in Python?\n",
    "# Ans:- Lists in python are versatile and powerful data structures with several key features that make them essential for various programming tasks.\n",
    "#       Here are the main featires of lists in pyhton:\n",
    "#    1- Ordered\n",
    "#    2- Mutable\n",
    "#    3- Hetrogenous Elements\n",
    "#    4- Dynamic size\n",
    "#    5- SLicing\n",
    "#    6- Indexed Access\n",
    "#    7- Nested list\n",
    "#    8- Iteration"
   ]
  },
  {
   "cell_type": "code",
   "execution_count": 10,
   "id": "56086b01-0433-4ca5-a108-b2d35da68a4e",
   "metadata": {},
   "outputs": [
    {
     "data": {
      "text/plain": [
       "[2, 5, 4, 5]"
      ]
     },
     "execution_count": 10,
     "metadata": {},
     "output_type": "execute_result"
    }
   ],
   "source": [
    "# Describe how to access, modify, and delete elements in a list with examples\n",
    "# Ans:- \n",
    "# Accessing the element:\n",
    "my_list = [1, 2, 3, 4, 5]\n",
    "my_list[1] # single element\n",
    "my_list[1:4] # range slicing\n",
    "# Modify Element:\n",
    "my_list[2] = 5\n",
    "my_list\n",
    "# Delete elements\n",
    "my_list.remove(1)\n",
    "my_list"
   ]
  },
  {
   "cell_type": "code",
   "execution_count": 13,
   "id": "40cf0b9e-3d7c-473f-81bb-bbddbba87162",
   "metadata": {},
   "outputs": [
    {
     "name": "stdout",
     "output_type": "stream",
     "text": [
      "(0, 1, 2, 3)\n",
      "Original list  [1, 2, 4, 4, 3, 3, 3, 6, 5]\n"
     ]
    }
   ],
   "source": [
    "# Compare and contrasts tuples and lists with examples.\n",
    "# Ans:- \n",
    "# Tuples:- They are immutable. The implication of iteration is comparitively faster.They consume less memory as compared to the list.Tuples don't change they are far less error-prone.\n",
    "tuple1 = (0, 1, 2, 3)\n",
    "print(tuple1)\n",
    "# Lists:- They are mutable. The implication of iteration is Time consuming. They consume more memory. Unexpected changes and errors are more likely to occur.\n",
    "List = [1, 2, 4, 4, 3, 3, 3, 6, 5]\n",
    "print(\"Original list \", List)"
   ]
  },
  {
   "cell_type": "code",
   "execution_count": 3,
   "id": "7da0cb9b-d378-4ea5-801f-fbd031a804c1",
   "metadata": {},
   "outputs": [
    {
     "data": {
      "text/plain": [
       "{'apple', 'banana', 'cherry'}"
      ]
     },
     "execution_count": 3,
     "metadata": {},
     "output_type": "execute_result"
    }
   ],
   "source": [
    "# Describe the key features of sets and provide example of their use.\n",
    "# Ans:- Sets in Python are a built-in data structure used to store unique elements in an unordered collection.\n",
    "#       The key features of sets are:\n",
    "#       commutative property, associative property, distributive property, identity property, complement property, and idempotent property.\n",
    "my_set = {\"apple\", \"banana\", \"cherry\"}\n",
    "my_set"
   ]
  },
  {
   "cell_type": "code",
   "execution_count": 6,
   "id": "a084cf3d-bb17-44f0-a864-344226a4caea",
   "metadata": {},
   "outputs": [
    {
     "data": {
      "text/plain": [
       "[1, 2, 3, 4, 5]"
      ]
     },
     "execution_count": 6,
     "metadata": {},
     "output_type": "execute_result"
    }
   ],
   "source": [
    "# Discuss the use cases of tuples and sets in python programming.\n",
    "# Ans:- Tuples are an immutable collection of variables, while sets are mutable collections of variables.\n",
    "#       use cases of tuples are:-\n",
    "point = (10, 20)\n",
    "color = (255, 0, 0)  # Red in RGB\n",
    "color\n",
    "#       use cases of sets are:-\n",
    "items = [1, 2, 3, 2, 4, 1, 5]\n",
    "unique_items = list(set(items))\n",
    "unique_items"
   ]
  },
  {
   "cell_type": "code",
   "execution_count": 9,
   "id": "48f8bc24-e17a-4668-aad5-7618a0becb62",
   "metadata": {},
   "outputs": [
    {
     "name": "stdout",
     "output_type": "stream",
     "text": [
      "{'name': 'Alice'}\n",
      "{'name': 'Bob'}\n",
      "{'name': 'Alice'}\n",
      "25\n",
      "{'name': 'Alice'}\n",
      "{}\n"
     ]
    }
   ],
   "source": [
    "# Describe how to add, modify and delete items in a dictionary with examples.\n",
    "# Ans:- \n",
    "# Adding items to dictionary:-\n",
    "my_dict = {}\n",
    "my_dict[\"name\"] = \"Alice\" # Adding a new key-value pair\n",
    "print(my_dict) # Output: {'name': 'Alice'}\n",
    "# Modify items in a dictionary:-\n",
    "my_dict = {\"name\":\"Alice\"}\n",
    "my_dict[\"name\"] = \"Bob\" # modifying the value of an existing key\n",
    "print(my_dict) # Output: {'name': 'Bob'}\n",
    "# Deleting items from a dictionary:-\n",
    "# We can delete the items in dictionary using del, pop(), clear() method.\n",
    "# Example del:-\n",
    "my_dict = {\"name\":\"Alice\",\"age\":25}\n",
    "del my_dict[\"age\"] # delete the key 'age'\n",
    "print(my_dict)  # Output: {'name': 'Alice'}\n",
    "# Example pop():-\n",
    "my_dict = {\"name\":\"Alice\",\"age\":25}\n",
    "age = my_dict.pop(\"age\") # Delete 'age' and returns its value\n",
    "print(age)  # Output: 25\n",
    "print(my_dict) # Output: {'name': 'Alice'}\n",
    "# Example clear() :-\n",
    "my_dict = {\"name\":\"Alice\",\"age\":25}\n",
    "my_dict.clear() # clear all items in the dictionary\n",
    "print(my_dict) #output: {}"
   ]
  },
  {
   "cell_type": "code",
   "execution_count": 2,
   "id": "8537e487-7d59-40d8-bb37-6a13fdf90936",
   "metadata": {},
   "outputs": [],
   "source": [
    "# Discuss the importance of dictionary keys being immutable and provide examples.\n",
    "# Ans:- Immutability is essential for keys because it ensures that the dictionary can efficiently look up values based on their keys. If a key was mutable, its hash value could change, making it impossible to find the associated value in the dictionary.\n",
    "mydict = {[1, 2]: '12'}\n",
    "print(mydict[[1, 2]])"
   ]
  }
 ],
 "metadata": {
  "kernelspec": {
   "display_name": "Python 3 (ipykernel)",
   "language": "python",
   "name": "python3"
  },
  "language_info": {
   "codemirror_mode": {
    "name": "ipython",
    "version": 3
   },
   "file_extension": ".py",
   "mimetype": "text/x-python",
   "name": "python",
   "nbconvert_exporter": "python",
   "pygments_lexer": "ipython3",
   "version": "3.10.8"
  }
 },
 "nbformat": 4,
 "nbformat_minor": 5
}
